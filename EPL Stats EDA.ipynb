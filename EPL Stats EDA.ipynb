{
 "cells": [
  {
   "cell_type": "code",
   "execution_count": 1,
   "metadata": {},
   "outputs": [],
   "source": [
    "#Import Data\n",
    "import pandas as pd\n",
    "import numpy as np\n",
    "import matplotlib.pyplot as plt\n",
    "import re\n",
    "import os\n",
    "import glob\n",
    "import datetime\n",
    "import warnings\n",
    "warnings.filterwarnings(\"ignore\")"
   ]
  },
  {
   "cell_type": "markdown",
   "metadata": {},
   "source": [
    "### Data quality is awful, will have to work one file at a time to fix the dates first\n",
    "* Combining them and then trying to edit the dates just wouldn't work because there'd be no way to be 100% sure if the month and days flipped unless we look at them season by season\n",
    "* Had to inspect the CSV to figure out what was going on (too many columns/blank values, etc.)"
   ]
  },
  {
   "cell_type": "code",
   "execution_count": 335,
   "metadata": {},
   "outputs": [],
   "source": [
    "#List all csv files only\n",
    "csv_files = glob.glob('data/*.{}'.format('csv'))"
   ]
  },
  {
   "cell_type": "code",
   "execution_count": 336,
   "metadata": {},
   "outputs": [],
   "source": [
    "#Need to store them in separate dataframe for now\n",
    "fns = [os.path.splitext(os.path.basename(x))[0] for x in csv_files]"
   ]
  },
  {
   "cell_type": "code",
   "execution_count": 337,
   "metadata": {},
   "outputs": [],
   "source": [
    "d = {} #create a dictionary of dataframes\n",
    "for i in range(len(fns)):\n",
    "    d[fns[i]] = pd.read_csv(csv_files[i], encoding = 'unicode_escape')"
   ]
  },
  {
   "cell_type": "code",
   "execution_count": 338,
   "metadata": {},
   "outputs": [
    {
     "data": {
      "text/plain": [
       "['2003-2004',\n",
       " '2004-2005',\n",
       " '2005-2006',\n",
       " '2006-2007',\n",
       " '2007-2008',\n",
       " '2008-2009',\n",
       " '2009-2010',\n",
       " '2010-2011',\n",
       " '2011-2012',\n",
       " '2012-2013',\n",
       " '2013-2014',\n",
       " '2014-2015',\n",
       " '2015-2016',\n",
       " '2016-2017',\n",
       " '2017-2018',\n",
       " '2018-2019',\n",
       " '2019-2020',\n",
       " '2020-2021',\n",
       " '2021-2022']"
      ]
     },
     "execution_count": 338,
     "metadata": {},
     "output_type": "execute_result"
    }
   ],
   "source": [
    "list(d.keys())"
   ]
  },
  {
   "cell_type": "code",
   "execution_count": 339,
   "metadata": {},
   "outputs": [],
   "source": [
    "#Give different names to dataframe\n",
    "df_0304 = d['2003-2004']\n",
    "df_0405 = d['2004-2005']\n",
    "df_0506 = d['2005-2006']\n",
    "df_0607 = d['2006-2007']\n",
    "df_0708 = d['2007-2008']\n",
    "df_0809 = d['2008-2009']\n",
    "df_0910 = d['2009-2010']\n",
    "df_1011 = d['2010-2011']\n",
    "df_1112 = d['2011-2012']\n",
    "df_1213 = d['2012-2013']\n",
    "df_1314 = d['2013-2014']\n",
    "df_1415 = d['2014-2015']\n",
    "df_1516 = d['2015-2016']\n",
    "df_1617 = d['2016-2017']\n",
    "df_1718 = d['2017-2018']\n",
    "df_1819 = d['2018-2019']\n",
    "df_1920 = d['2019-2020']\n",
    "df_2021 = d['2020-2021']\n",
    "df_2122 = d['2021-2022']\n",
    "#list(d.keys())[i][2:4]+list(d.keys())[i][7:9]"
   ]
  },
  {
   "cell_type": "markdown",
   "metadata": {},
   "source": [
    "### For now, take a look at the first df"
   ]
  },
  {
   "cell_type": "code",
   "execution_count": 340,
   "metadata": {},
   "outputs": [
    {
     "data": {
      "text/html": [
       "<div>\n",
       "<style scoped>\n",
       "    .dataframe tbody tr th:only-of-type {\n",
       "        vertical-align: middle;\n",
       "    }\n",
       "\n",
       "    .dataframe tbody tr th {\n",
       "        vertical-align: top;\n",
       "    }\n",
       "\n",
       "    .dataframe thead th {\n",
       "        text-align: right;\n",
       "    }\n",
       "</style>\n",
       "<table border=\"1\" class=\"dataframe\">\n",
       "  <thead>\n",
       "    <tr style=\"text-align: right;\">\n",
       "      <th></th>\n",
       "      <th>Div</th>\n",
       "      <th>Date</th>\n",
       "      <th>HomeTeam</th>\n",
       "      <th>AwayTeam</th>\n",
       "      <th>FTHG</th>\n",
       "      <th>FTAG</th>\n",
       "      <th>FTR</th>\n",
       "      <th>HTHG</th>\n",
       "      <th>HTAG</th>\n",
       "      <th>HTR</th>\n",
       "      <th>...</th>\n",
       "      <th>B365&lt;2.5</th>\n",
       "      <th>GBAHH</th>\n",
       "      <th>GBAHA</th>\n",
       "      <th>GBAH</th>\n",
       "      <th>LBAHH</th>\n",
       "      <th>LBAHA</th>\n",
       "      <th>LBAH</th>\n",
       "      <th>B365AHH</th>\n",
       "      <th>B365AHA</th>\n",
       "      <th>B365AH</th>\n",
       "    </tr>\n",
       "  </thead>\n",
       "  <tbody>\n",
       "    <tr>\n",
       "      <th>0</th>\n",
       "      <td>E0</td>\n",
       "      <td>16/08/03</td>\n",
       "      <td>Arsenal</td>\n",
       "      <td>Everton</td>\n",
       "      <td>2</td>\n",
       "      <td>1</td>\n",
       "      <td>H</td>\n",
       "      <td>1</td>\n",
       "      <td>0</td>\n",
       "      <td>H</td>\n",
       "      <td>...</td>\n",
       "      <td>2.10</td>\n",
       "      <td>1.90</td>\n",
       "      <td>1.90</td>\n",
       "      <td>-1.25</td>\n",
       "      <td>1.90</td>\n",
       "      <td>1.95</td>\n",
       "      <td>-1.25</td>\n",
       "      <td>1.975</td>\n",
       "      <td>1.925</td>\n",
       "      <td>-1.25</td>\n",
       "    </tr>\n",
       "    <tr>\n",
       "      <th>1</th>\n",
       "      <td>E0</td>\n",
       "      <td>16/08/03</td>\n",
       "      <td>Birmingham</td>\n",
       "      <td>Tottenham</td>\n",
       "      <td>1</td>\n",
       "      <td>0</td>\n",
       "      <td>H</td>\n",
       "      <td>1</td>\n",
       "      <td>0</td>\n",
       "      <td>H</td>\n",
       "      <td>...</td>\n",
       "      <td>1.85</td>\n",
       "      <td>2.05</td>\n",
       "      <td>1.75</td>\n",
       "      <td>-0.25</td>\n",
       "      <td>1.75</td>\n",
       "      <td>2.10</td>\n",
       "      <td>0.00</td>\n",
       "      <td>2.100</td>\n",
       "      <td>1.800</td>\n",
       "      <td>-0.25</td>\n",
       "    </tr>\n",
       "    <tr>\n",
       "      <th>2</th>\n",
       "      <td>E0</td>\n",
       "      <td>16/08/03</td>\n",
       "      <td>Blackburn</td>\n",
       "      <td>Wolves</td>\n",
       "      <td>5</td>\n",
       "      <td>1</td>\n",
       "      <td>H</td>\n",
       "      <td>2</td>\n",
       "      <td>0</td>\n",
       "      <td>H</td>\n",
       "      <td>...</td>\n",
       "      <td>1.90</td>\n",
       "      <td>1.95</td>\n",
       "      <td>1.85</td>\n",
       "      <td>-0.75</td>\n",
       "      <td>2.00</td>\n",
       "      <td>1.85</td>\n",
       "      <td>-0.75</td>\n",
       "      <td>1.950</td>\n",
       "      <td>1.950</td>\n",
       "      <td>-0.75</td>\n",
       "    </tr>\n",
       "    <tr>\n",
       "      <th>3</th>\n",
       "      <td>E0</td>\n",
       "      <td>16/08/03</td>\n",
       "      <td>Fulham</td>\n",
       "      <td>Middlesbrough</td>\n",
       "      <td>3</td>\n",
       "      <td>2</td>\n",
       "      <td>H</td>\n",
       "      <td>1</td>\n",
       "      <td>1</td>\n",
       "      <td>D</td>\n",
       "      <td>...</td>\n",
       "      <td>1.70</td>\n",
       "      <td>1.80</td>\n",
       "      <td>2.00</td>\n",
       "      <td>0.00</td>\n",
       "      <td>1.85</td>\n",
       "      <td>2.00</td>\n",
       "      <td>0.00</td>\n",
       "      <td>2.100</td>\n",
       "      <td>1.800</td>\n",
       "      <td>-0.25</td>\n",
       "    </tr>\n",
       "    <tr>\n",
       "      <th>4</th>\n",
       "      <td>E0</td>\n",
       "      <td>16/08/03</td>\n",
       "      <td>Leicester</td>\n",
       "      <td>Southampton</td>\n",
       "      <td>2</td>\n",
       "      <td>2</td>\n",
       "      <td>D</td>\n",
       "      <td>2</td>\n",
       "      <td>0</td>\n",
       "      <td>H</td>\n",
       "      <td>...</td>\n",
       "      <td>1.80</td>\n",
       "      <td>1.85</td>\n",
       "      <td>1.95</td>\n",
       "      <td>0.00</td>\n",
       "      <td>1.85</td>\n",
       "      <td>2.00</td>\n",
       "      <td>0.00</td>\n",
       "      <td>1.850</td>\n",
       "      <td>2.050</td>\n",
       "      <td>0.00</td>\n",
       "    </tr>\n",
       "  </tbody>\n",
       "</table>\n",
       "<p>5 rows × 57 columns</p>\n",
       "</div>"
      ],
      "text/plain": [
       "  Div      Date    HomeTeam       AwayTeam  FTHG  FTAG FTR  HTHG  HTAG HTR  \\\n",
       "0  E0  16/08/03     Arsenal        Everton     2     1   H     1     0   H   \n",
       "1  E0  16/08/03  Birmingham      Tottenham     1     0   H     1     0   H   \n",
       "2  E0  16/08/03   Blackburn         Wolves     5     1   H     2     0   H   \n",
       "3  E0  16/08/03      Fulham  Middlesbrough     3     2   H     1     1   D   \n",
       "4  E0  16/08/03   Leicester    Southampton     2     2   D     2     0   H   \n",
       "\n",
       "   ... B365<2.5  GBAHH  GBAHA  GBAH  LBAHH  LBAHA  LBAH  B365AHH  B365AHA  \\\n",
       "0  ...     2.10   1.90   1.90 -1.25   1.90   1.95 -1.25    1.975    1.925   \n",
       "1  ...     1.85   2.05   1.75 -0.25   1.75   2.10  0.00    2.100    1.800   \n",
       "2  ...     1.90   1.95   1.85 -0.75   2.00   1.85 -0.75    1.950    1.950   \n",
       "3  ...     1.70   1.80   2.00  0.00   1.85   2.00  0.00    2.100    1.800   \n",
       "4  ...     1.80   1.85   1.95  0.00   1.85   2.00  0.00    1.850    2.050   \n",
       "\n",
       "   B365AH  \n",
       "0   -1.25  \n",
       "1   -0.25  \n",
       "2   -0.75  \n",
       "3   -0.25  \n",
       "4    0.00  \n",
       "\n",
       "[5 rows x 57 columns]"
      ]
     },
     "execution_count": 340,
     "metadata": {},
     "output_type": "execute_result"
    }
   ],
   "source": [
    "df_0304.head()"
   ]
  },
  {
   "cell_type": "code",
   "execution_count": 341,
   "metadata": {},
   "outputs": [
    {
     "data": {
      "text/plain": [
       "8    380\n",
       "Name: Date, dtype: int64"
      ]
     },
     "execution_count": 341,
     "metadata": {},
     "output_type": "execute_result"
    }
   ],
   "source": [
    "#None of them have the full year, we want the MM/DD/YYYY format\n",
    "df_0304['Date'].str.len().value_counts()"
   ]
  },
  {
   "cell_type": "markdown",
   "metadata": {},
   "source": [
    "#### Data Transformations"
   ]
  },
  {
   "cell_type": "code",
   "execution_count": 342,
   "metadata": {},
   "outputs": [],
   "source": [
    "#subset columns\n",
    "#df_0304 = df_0304[['Date','HomeTeam','AwayTeam','FTHG','FTAG','FTR','HS','AS','HST','AST','HF','AF','HC','AC','HY','AY','HR','AR']]"
   ]
  },
  {
   "cell_type": "code",
   "execution_count": 343,
   "metadata": {},
   "outputs": [],
   "source": [
    "#Switch Month and Day locations to make it into MM/DD/YYYY\n",
    "#Notice the years are 4 digits now\n",
    "#df_0304['Date'] = pd.to_datetime(df_0304['Date']).dt.strftime('%m/%d/%Y')"
   ]
  },
  {
   "cell_type": "code",
   "execution_count": 344,
   "metadata": {},
   "outputs": [],
   "source": [
    "#df_0304.head()"
   ]
  },
  {
   "cell_type": "code",
   "execution_count": 345,
   "metadata": {},
   "outputs": [],
   "source": [
    "#All rows have the full, 4 digit year\n",
    "#df_0304['Date'].str.len().value_counts()"
   ]
  },
  {
   "cell_type": "code",
   "execution_count": 346,
   "metadata": {},
   "outputs": [],
   "source": [
    "#df_0405.head(1) #0405 can take on the same transformation"
   ]
  },
  {
   "cell_type": "code",
   "execution_count": 347,
   "metadata": {},
   "outputs": [],
   "source": [
    "#df_0405['date'] = df_0405['date'].apply(lambda x: dt.datetime.strftime(x, '%d-%m-%Y %H:%M:%S'))\n",
    "#df_0405['Date'] = pd.to_datetime(df_0405['Date'], dayfirst=True) #need the day first argument here so it doesn't flip days/months when day is less than 13"
   ]
  },
  {
   "cell_type": "markdown",
   "metadata": {},
   "source": [
    "#### Now, subset the columns and change date format in all DFs using a loop"
   ]
  },
  {
   "cell_type": "code",
   "execution_count": 348,
   "metadata": {},
   "outputs": [],
   "source": [
    "df_list = [df_0304,df_0405,df_0506,df_0607,df_0708,df_0809,df_0910,df_1011,df_1112,df_1213,df_1314,\n",
    "          df_1415,df_1516,df_1617,df_1718,df_1819,df_1920,df_2021,df_2122]"
   ]
  },
  {
   "cell_type": "markdown",
   "metadata": {},
   "source": [
    "#### A lot of columns were empty or not as relevant"
   ]
  },
  {
   "cell_type": "code",
   "execution_count": 349,
   "metadata": {},
   "outputs": [],
   "source": [
    "#For subsetting the columns\n",
    "for i in range(len(df_list)):\n",
    "    cols = ['Date','HomeTeam','AwayTeam','FTHG','FTAG','FTR','HS','AS','HST','AST','HF','AF','HC','AC','HY','AY','HR','AR','Referee']\n",
    "    df_list[i] = df_list[i][cols]\n",
    "    df_list[i]['Date'] = pd.to_datetime(df_list[i]['Date'], dayfirst=True) \n",
    "    ##standardize dates keeping in mind that day comes first in all of these dates (verified after checking manually)"
   ]
  },
  {
   "cell_type": "code",
   "execution_count": 350,
   "metadata": {},
   "outputs": [
    {
     "name": "stdout",
     "output_type": "stream",
     "text": [
      "        Date    HomeTeam       AwayTeam  FTHG  FTAG FTR  HS  AS  HST  AST  HF  \\\n",
      "0 2003-08-16     Arsenal        Everton     2     1   H  11  13    5    7   8   \n",
      "1 2003-08-16  Birmingham      Tottenham     1     0   H  10  15    5    7  20   \n",
      "2 2003-08-16   Blackburn         Wolves     5     1   H  25   8   13    5   8   \n",
      "3 2003-08-16      Fulham  Middlesbrough     3     2   H  17   8    9    5  18   \n",
      "4 2003-08-16   Leicester    Southampton     2     2   D  12  13    7   10  27   \n",
      "\n",
      "   AF  HC  AC  HY  AY  HR  AR   Referee  \n",
      "0  15   6   9   1   3   1   1  M Halsey  \n",
      "1  27   1   4   3   5   0   0  R Styles  \n",
      "2  14   6   2   1   1   0   0  J Winter  \n",
      "3  16   7   6   1   1   0   0    G Poll  \n",
      "4  15   2   7   3   1   0   0   M Riley  \n",
      "        Date       HomeTeam     AwayTeam  FTHG  FTAG FTR  HS  AS  HST  AST  \\\n",
      "0 2004-08-14    Aston Villa  Southampton     2     0   H  14   6    5    2   \n",
      "1 2004-08-14      Blackburn    West Brom     1     1   D  12   4    4    2   \n",
      "2 2004-08-14         Bolton     Charlton     4     1   H  21   9   11    5   \n",
      "3 2004-08-14       Man City       Fulham     1     1   D  12   4    5    2   \n",
      "4 2004-08-14  Middlesbrough    Newcastle     2     2   D  15  11    8    4   \n",
      "\n",
      "   HF  AF  HC  AC  HY  AY  HR  AR    Referee  \n",
      "0  14   9  12   6   0   0   0   0   U Rennie  \n",
      "1  15  17   4   5   1   0   0   0      C Foy  \n",
      "2  10  12   9   5   1   1   0   0     P Dowd  \n",
      "3  14  12   9   4   0   2   0   0  M Messias  \n",
      "4  16  13   6   7   3   1   0   0  S Bennett  \n",
      "        Date       HomeTeam    AwayTeam  FTHG  FTAG FTR  HS  AS  HST  AST  HF  \\\n",
      "0 2005-08-13    Aston Villa      Bolton     2     2   D   3  13    2    6  14   \n",
      "1 2005-08-13        Everton  Man United     0     2   A  10  12    5    5  15   \n",
      "2 2005-08-13         Fulham  Birmingham     0     0   D  15   7    7    4  12   \n",
      "3 2005-08-13       Man City   West Brom     0     0   D  15  13    8    3  13   \n",
      "4 2005-08-13  Middlesbrough   Liverpool     0     0   D   4  16    2    7  17   \n",
      "\n",
      "   AF  HC  AC  HY  AY  HR  AR   Referee  \n",
      "0  16   7   8   0   2   0   0   M Riley  \n",
      "1  14   8   6   3   1   0   0    G Poll  \n",
      "2  13   6   6   1   2   0   0  R Styles  \n",
      "3  11   3   6   2   3   0   0     C Foy  \n",
      "4  11   5   0   2   3   1   0  M Halsey  \n",
      "        Date    HomeTeam     AwayTeam  FTHG  FTAG FTR  HS  AS  HST  AST  HF  \\\n",
      "0 2006-08-19     Arsenal  Aston Villa     1     1   D  19   5   11    3  10   \n",
      "1 2006-08-19      Bolton    Tottenham     2     0   H   8   9    6    6  19   \n",
      "2 2006-08-19     Everton      Watford     2     1   H   6  12    2    8  12   \n",
      "3 2006-08-19   Newcastle        Wigan     2     1   H   9  14    8    9  17   \n",
      "4 2006-08-19  Portsmouth    Blackburn     3     0   H  21   9   16    7  20   \n",
      "\n",
      "   AF  HC  AC  HY  AY  HR  AR     Referee  \n",
      "0  19  18   1   1   2   0   0      G Poll  \n",
      "1  22   6   3   0   1   0   0      P Dowd  \n",
      "2  13   0   6   2   2   0   0    P Walton  \n",
      "3  20   4  11   1   2   0   0  M Atkinson  \n",
      "4  17   6   2   2   1   0   2     A Wiley  \n",
      "        Date       HomeTeam    AwayTeam  FTHG  FTAG FTR  HS  AS  HST  AST  HF  \\\n",
      "0 2007-08-11    Aston Villa   Liverpool     1     2   A  10  17    6    7  18   \n",
      "1 2007-08-11         Bolton   Newcastle     1     3   A  13   7    9    5  15   \n",
      "2 2007-08-11          Derby  Portsmouth     2     2   D  12  12    5    6  14   \n",
      "3 2007-08-11        Everton       Wigan     2     1   H  12  14    8    4   8   \n",
      "4 2007-08-11  Middlesbrough   Blackburn     1     2   A  10   4    6    4  16   \n",
      "\n",
      "   AF  HC  AC  HY  AY  HR  AR        Referee  \n",
      "0  11   4   2   4   2   0   0        M Riley  \n",
      "1  16   4   3   1   1   0   0          C Foy  \n",
      "2  17   6   6   1   2   0   0         M Dean  \n",
      "3  13   6   2   0   0   0   0  M Clattenburg  \n",
      "4  16  13   3   3   4   0   0     A Marriner  \n",
      "        Date       HomeTeam   AwayTeam  FTHG  FTAG FTR  HS  AS  HST  AST  HF  \\\n",
      "0 2008-08-16        Arsenal  West Brom     1     0   H  24   5   14    4  11   \n",
      "1 2008-08-16         Bolton      Stoke     3     1   H  14   8    8    2  13   \n",
      "2 2008-08-16        Everton  Blackburn     2     3   A  10  15    5   11  11   \n",
      "3 2008-08-16           Hull     Fulham     2     1   H  11  12    6    6  10   \n",
      "4 2008-08-16  Middlesbrough  Tottenham     2     1   H  14   8   10    5  11   \n",
      "\n",
      "   AF  HC  AC  HY  AY  HR  AR     Referee  \n",
      "0   8   7   5   0   0   0   0      H Webb  \n",
      "1  12   4   3   1   2   0   0       C Foy  \n",
      "2   9   3   5   2   2   0   0  A Marriner  \n",
      "3   9   5   6   3   0   0   0    P Walton  \n",
      "4  12   7   9   1   2   0   0  M Atkinson  \n",
      "        Date     HomeTeam    AwayTeam  FTHG  FTAG FTR  HS  AS  HST  AST  HF  \\\n",
      "0 2009-08-15  Aston Villa       Wigan     0     2   A  11  14    5    7  15   \n",
      "1 2009-08-15    Blackburn    Man City     0     2   A  17   8    9    5  12   \n",
      "2 2009-08-15       Bolton  Sunderland     0     1   A  11  20    3   13  16   \n",
      "3 2009-08-15      Chelsea        Hull     2     1   H  26   7   12    3  13   \n",
      "4 2009-08-15      Everton     Arsenal     1     6   A   8  15    5    9  11   \n",
      "\n",
      "   AF  HC  AC  HY  AY  HR  AR        Referee  \n",
      "0  14   4   6   2   2   0   0  M Clattenburg  \n",
      "1   9   5   4   2   1   0   0         M Dean  \n",
      "2  10   4   7   2   1   0   0     A Marriner  \n",
      "3  15  12   4   1   2   0   0        A Wiley  \n",
      "4  13   4   9   0   0   0   0       M Halsey  \n",
      "        Date     HomeTeam    AwayTeam  FTHG  FTAG FTR  HS  AS  HST  AST  HF  \\\n",
      "0 2010-08-14  Aston Villa    West Ham     3     0   H  23  12   11    2  15   \n",
      "1 2010-08-14    Blackburn     Everton     1     0   H   7  17    2   12  19   \n",
      "2 2010-08-14       Bolton      Fulham     0     0   D  13  12    9    7  12   \n",
      "3 2010-08-14      Chelsea   West Brom     6     0   H  18  10   13    4  10   \n",
      "4 2010-08-14   Sunderland  Birmingham     2     2   D   6  13    2    7  13   \n",
      "\n",
      "   AF  HC  AC  HY  AY  HR  AR        Referee  \n",
      "0  15  16   7   1   2   0   0         M Dean  \n",
      "1  14   1   3   2   1   0   0         P Dowd  \n",
      "2  13   4   8   1   3   0   0      S Attwell  \n",
      "3  10   3   1   1   0   0   0  M Clattenburg  \n",
      "4  10   3   6   3   3   1   0       A Taylor  \n",
      "        Date   HomeTeam     AwayTeam  FTHG  FTAG FTR  HS  AS  HST  AST  HF  \\\n",
      "0 2011-08-13  Blackburn       Wolves     1     2   A  16  13    8    4  14   \n",
      "1 2011-08-13     Fulham  Aston Villa     0     0   D  13   7    9    1  10   \n",
      "2 2011-08-13  Liverpool   Sunderland     1     1   D  11  15    4    6  17   \n",
      "3 2011-08-13  Newcastle      Arsenal     0     0   D   6   9    1    4   9   \n",
      "4 2011-08-13        QPR       Bolton     0     4   A  13  13    7    7   9   \n",
      "\n",
      "   AF  HC  AC  HY  AY  HR  AR     Referee  \n",
      "0  10  12   6   4   2   0   0    K Friend  \n",
      "1  18   2   3   2   4   0   0     L Mason  \n",
      "2  12   6   3   4   4   0   0      P Dowd  \n",
      "3  11   2   5   3   5   0   1    P Walton  \n",
      "4  16   3   2   1   2   1   0  M Atkinson  \n",
      "        Date   HomeTeam    AwayTeam  FTHG  FTAG FTR  HS  AS  HST  AST  HF  AF  \\\n",
      "0 2012-08-18    Arsenal  Sunderland     0     0   D  14   3    4    2  12   8   \n",
      "1 2012-08-18     Fulham     Norwich     5     0   H  11   4    9    2  12  11   \n",
      "2 2012-08-18  Newcastle   Tottenham     2     1   H   6  12    4    6  12   8   \n",
      "3 2012-08-18        QPR     Swansea     0     5   A  20  12   11    8  11  14   \n",
      "4 2012-08-18    Reading       Stoke     1     1   D   9   6    3    3   9  14   \n",
      "\n",
      "   HC  AC  HY  AY  HR  AR     Referee  \n",
      "0   7   0   0   0   0   0       C Foy  \n",
      "1   6   3   0   0   0   0    M Oliver  \n",
      "2   3   5   2   2   0   0  M Atkinson  \n",
      "3   5   3   2   2   0   0   L Probert  \n",
      "4   4   3   2   4   0   1    K Friend  \n",
      "        Date    HomeTeam     AwayTeam  FTHG  FTAG FTR  HS  AS  HST  AST  HF  \\\n",
      "0 2013-08-17     Arsenal  Aston Villa     1     3   A  16   9    4    4  15   \n",
      "1 2013-08-17   Liverpool        Stoke     1     0   H  26  10   11    4  11   \n",
      "2 2013-08-17     Norwich      Everton     2     2   D   8  19    2    6  13   \n",
      "3 2013-08-17  Sunderland       Fulham     0     1   A  20   5    3    1  14   \n",
      "4 2013-08-17     Swansea   Man United     1     4   A  17  15    6    7  13   \n",
      "\n",
      "   AF  HC  AC  HY  AY  HR  AR      Referee  \n",
      "0  18   4   3   4   5   1   0     A Taylor  \n",
      "1  11  12   6   1   1   0   0   M Atkinson  \n",
      "2  10   6   8   2   0   0   0     M Oliver  \n",
      "3  14   6   1   0   3   0   0  N Swarbrick  \n",
      "4  10   7   4   1   3   0   0       P Dowd  \n",
      "        Date    HomeTeam        AwayTeam  FTHG  FTAG FTR    HS    AS  HST  \\\n",
      "0 2014-08-16     Arsenal  Crystal Palace   2.0   1.0   H  14.0   4.0  6.0   \n",
      "1 2014-08-16   Leicester         Everton   2.0   2.0   D  11.0  13.0  3.0   \n",
      "2 2014-08-16  Man United         Swansea   1.0   2.0   A  14.0   5.0  5.0   \n",
      "3 2014-08-16         QPR            Hull   0.0   1.0   A  19.0  11.0  6.0   \n",
      "4 2014-08-16       Stoke     Aston Villa   0.0   1.0   A  12.0   7.0  2.0   \n",
      "\n",
      "   AST    HF    AF   HC   AC   HY   AY   HR   AR   Referee  \n",
      "0  2.0  13.0  19.0  9.0  3.0  2.0  2.0  0.0  1.0    J Moss  \n",
      "1  3.0  16.0  10.0  3.0  6.0  1.0  1.0  0.0  0.0   M Jones  \n",
      "2  4.0  14.0  20.0  4.0  0.0  2.0  4.0  0.0  0.0    M Dean  \n",
      "3  4.0  10.0  10.0  8.0  9.0  1.0  2.0  0.0  0.0  C Pawson  \n",
      "4  2.0  14.0   9.0  2.0  8.0  0.0  3.0  0.0  0.0  A Taylor  \n",
      "        Date     HomeTeam     AwayTeam  FTHG  FTAG FTR  HS  AS  HST  AST  HF  \\\n",
      "0 2015-08-08  Bournemouth  Aston Villa     0     1   A  11   7    2    3  13   \n",
      "1 2015-08-08      Chelsea      Swansea     2     2   D  11  18    3   10  15   \n",
      "2 2015-08-08      Everton      Watford     2     2   D  10  11    5    5   7   \n",
      "3 2015-08-08    Leicester   Sunderland     4     2   H  19  10    8    5  13   \n",
      "4 2015-08-08   Man United    Tottenham     1     0   H   9   9    1    4  12   \n",
      "\n",
      "   AF  HC  AC  HY  AY  HR  AR        Referee  \n",
      "0  13   6   3   3   4   0   0  M Clattenburg  \n",
      "1  16   4   8   1   3   1   0       M Oliver  \n",
      "2  13   8   2   1   2   0   0        M Jones  \n",
      "3  17   6   3   2   4   0   0        L Mason  \n",
      "4  12   1   2   2   3   0   0         J Moss  \n",
      "        Date        HomeTeam    AwayTeam  FTHG  FTAG FTR  HS  AS  HST  AST  \\\n",
      "0 2016-08-13         Burnley     Swansea     0     1   A  10  17    3    9   \n",
      "1 2016-08-13  Crystal Palace   West Brom     0     1   A  14  13    4    3   \n",
      "2 2016-08-13         Everton   Tottenham     1     1   D  12  13    6    4   \n",
      "3 2016-08-13            Hull   Leicester     2     1   H  14  18    5    5   \n",
      "4 2016-08-13        Man City  Sunderland     2     1   H  16   7    4    3   \n",
      "\n",
      "   HF  AF  HC  AC  HY  AY  HR  AR     Referee  \n",
      "0  10  14   7   4   3   2   0   0      J Moss  \n",
      "1  12  15   3   6   2   2   0   0    C Pawson  \n",
      "2  10  14   5   6   0   0   0   0  M Atkinson  \n",
      "3   8  17   5   3   2   2   0   0      M Dean  \n",
      "4  11  14   9   6   1   2   0   0    R Madley  \n",
      "        Date        HomeTeam      AwayTeam  FTHG  FTAG FTR  HS  AS  HST  AST  \\\n",
      "0 2017-08-11         Arsenal     Leicester     4     3   H  27   6   10    3   \n",
      "1 2017-08-12        Brighton      Man City     0     2   A   6  14    2    4   \n",
      "2 2017-08-12         Chelsea       Burnley     2     3   A  19  10    6    5   \n",
      "3 2017-08-12  Crystal Palace  Huddersfield     0     3   A  14   8    4    6   \n",
      "4 2017-08-12         Everton         Stoke     1     0   H   9   9    4    1   \n",
      "\n",
      "   HF  AF  HC  AC  HY  AY  HR  AR      Referee  \n",
      "0   9  12   9   4   0   1   0   0       M Dean  \n",
      "1   6   9   3  10   0   2   0   0     M Oliver  \n",
      "2  16  11   8   5   3   3   2   0     C Pawson  \n",
      "3   7  19  12   9   1   3   0   0       J Moss  \n",
      "4  13  10   6   7   1   1   0   0  N Swarbrick  \n",
      "        Date      HomeTeam        AwayTeam  FTHG  FTAG FTR  HS  AS  HST  AST  \\\n",
      "0 2018-08-10    Man United       Leicester     2     1   H   8  13    6    4   \n",
      "1 2018-08-11   Bournemouth         Cardiff     2     0   H  12  10    4    1   \n",
      "2 2018-08-11        Fulham  Crystal Palace     0     2   A  15  10    6    9   \n",
      "3 2018-08-11  Huddersfield         Chelsea     0     3   A   6  13    1    4   \n",
      "4 2018-08-11     Newcastle       Tottenham     1     2   A  15  15    2    5   \n",
      "\n",
      "   HF  AF  HC  AC  HY  AY  HR  AR     Referee  \n",
      "0  11   8   2   5   2   1   0   0  A Marriner  \n",
      "1  11   9   7   4   1   1   0   0    K Friend  \n",
      "2   9  11   5   5   1   2   0   0      M Dean  \n",
      "3   9   8   2   5   2   1   0   0  C Kavanagh  \n",
      "4  11  12   3   5   2   2   0   0  M Atkinson  \n",
      "        Date        HomeTeam          AwayTeam  FTHG  FTAG FTR  HS  AS  HST  \\\n",
      "0 2019-08-09       Liverpool           Norwich     4     1   H  15  12    7   \n",
      "1 2019-08-10        West Ham          Man City     0     5   A   5  14    3   \n",
      "2 2019-08-10     Bournemouth  Sheffield United     1     1   D  13   8    3   \n",
      "3 2019-08-10         Burnley       Southampton     3     0   H  10  11    4   \n",
      "4 2019-08-10  Crystal Palace           Everton     0     0   D   6  10    2   \n",
      "\n",
      "   AST  HF  AF  HC  AC  HY  AY  HR  AR   Referee  \n",
      "0    5   9   9  11   2   0   2   0   0  M Oliver  \n",
      "1    9   6  13   1   1   2   2   0   0    M Dean  \n",
      "2    3  10  19   3   4   2   1   0   0  K Friend  \n",
      "3    3   6  12   2   7   0   0   0   0   G Scott  \n",
      "4    3  16  14   6   2   2   1   0   1    J Moss  \n",
      "        Date        HomeTeam     AwayTeam  FTHG  FTAG FTR  HS  AS  HST  AST  \\\n",
      "0 2020-09-12          Fulham      Arsenal     0     3   A   5  13    2    6   \n",
      "1 2020-09-12  Crystal Palace  Southampton     1     0   H   5   9    3    5   \n",
      "2 2020-09-12       Liverpool        Leeds     4     3   H  22   6    6    3   \n",
      "3 2020-09-12        West Ham    Newcastle     0     2   A  15  15    3    2   \n",
      "4 2020-09-13       West Brom    Leicester     0     3   A   7  13    1    7   \n",
      "\n",
      "   HF  AF  HC  AC  HY  AY  HR  AR     Referee  \n",
      "0  12  12   2   3   2   2   0   0  C Kavanagh  \n",
      "1  14  11   7   3   2   1   0   0      J Moss  \n",
      "2   9   6   9   0   1   0   0   0    M Oliver  \n",
      "3  13   7   8   7   2   2   0   0   S Attwell  \n",
      "4  12   9   2   5   1   1   0   0    A Taylor  \n",
      "        Date    HomeTeam        AwayTeam  FTHG  FTAG FTR  HS  AS  HST  AST  \\\n",
      "0 2021-08-13   Brentford         Arsenal     2     0   H   8  22    3    4   \n",
      "1 2021-08-14  Man United           Leeds     5     1   H  16  10    8    3   \n",
      "2 2021-08-14     Burnley        Brighton     1     2   A  14  14    3    8   \n",
      "3 2021-08-14     Chelsea  Crystal Palace     3     0   H  13   4    6    1   \n",
      "4 2021-08-14     Everton     Southampton     3     1   H  14   6    6    3   \n",
      "\n",
      "   HF  AF  HC  AC  HY  AY  HR  AR    Referee  \n",
      "0  12   8   2   5   0   0   0   0   M Oliver  \n",
      "1  11   9   5   4   1   2   0   0  P Tierney  \n",
      "2  10   7   7   6   2   1   0   0    D Coote  \n",
      "3  15  11   5   2   0   0   0   0     J Moss  \n",
      "4  13  15   6   8   2   0   0   0   A Madley  \n"
     ]
    }
   ],
   "source": [
    "#check if this data looks ok and consistent\n",
    "for i in range(len(df_list)):\n",
    "    print(df_list[i].head())"
   ]
  },
  {
   "cell_type": "markdown",
   "metadata": {},
   "source": [
    "#### Concatenate dataframes in a list"
   ]
  },
  {
   "cell_type": "code",
   "execution_count": 351,
   "metadata": {},
   "outputs": [],
   "source": [
    "df = pd.concat(df_list) #simple!"
   ]
  },
  {
   "cell_type": "code",
   "execution_count": 352,
   "metadata": {},
   "outputs": [
    {
     "data": {
      "text/plain": [
       "(7221, 19)"
      ]
     },
     "execution_count": 352,
     "metadata": {},
     "output_type": "execute_result"
    }
   ],
   "source": [
    "df.shape"
   ]
  },
  {
   "cell_type": "code",
   "execution_count": 353,
   "metadata": {},
   "outputs": [
    {
     "data": {
      "text/plain": [
       "380.05263157894734"
      ]
     },
     "execution_count": 353,
     "metadata": {},
     "output_type": "execute_result"
    }
   ],
   "source": [
    "7221/19 #around 380 games per season. We're looking at 19 seasons here"
   ]
  },
  {
   "cell_type": "code",
   "execution_count": 354,
   "metadata": {},
   "outputs": [
    {
     "data": {
      "text/html": [
       "<div>\n",
       "<style scoped>\n",
       "    .dataframe tbody tr th:only-of-type {\n",
       "        vertical-align: middle;\n",
       "    }\n",
       "\n",
       "    .dataframe tbody tr th {\n",
       "        vertical-align: top;\n",
       "    }\n",
       "\n",
       "    .dataframe thead th {\n",
       "        text-align: right;\n",
       "    }\n",
       "</style>\n",
       "<table border=\"1\" class=\"dataframe\">\n",
       "  <thead>\n",
       "    <tr style=\"text-align: right;\">\n",
       "      <th></th>\n",
       "      <th>Date</th>\n",
       "      <th>HomeTeam</th>\n",
       "      <th>AwayTeam</th>\n",
       "      <th>FTHG</th>\n",
       "      <th>FTAG</th>\n",
       "      <th>FTR</th>\n",
       "      <th>HS</th>\n",
       "      <th>AS</th>\n",
       "      <th>HST</th>\n",
       "      <th>AST</th>\n",
       "      <th>HF</th>\n",
       "      <th>AF</th>\n",
       "      <th>HC</th>\n",
       "      <th>AC</th>\n",
       "      <th>HY</th>\n",
       "      <th>AY</th>\n",
       "      <th>HR</th>\n",
       "      <th>AR</th>\n",
       "      <th>Referee</th>\n",
       "    </tr>\n",
       "  </thead>\n",
       "  <tbody>\n",
       "    <tr>\n",
       "      <th>380</th>\n",
       "      <td>NaT</td>\n",
       "      <td>NaN</td>\n",
       "      <td>NaN</td>\n",
       "      <td>NaN</td>\n",
       "      <td>NaN</td>\n",
       "      <td>NaN</td>\n",
       "      <td>NaN</td>\n",
       "      <td>NaN</td>\n",
       "      <td>NaN</td>\n",
       "      <td>NaN</td>\n",
       "      <td>NaN</td>\n",
       "      <td>NaN</td>\n",
       "      <td>NaN</td>\n",
       "      <td>NaN</td>\n",
       "      <td>NaN</td>\n",
       "      <td>NaN</td>\n",
       "      <td>NaN</td>\n",
       "      <td>NaN</td>\n",
       "      <td>NaN</td>\n",
       "    </tr>\n",
       "  </tbody>\n",
       "</table>\n",
       "</div>"
      ],
      "text/plain": [
       "    Date HomeTeam AwayTeam  FTHG  FTAG  FTR  HS  AS  HST  AST  HF  AF  HC  AC  \\\n",
       "380  NaT      NaN      NaN   NaN   NaN  NaN NaN NaN  NaN  NaN NaN NaN NaN NaN   \n",
       "\n",
       "     HY  AY  HR  AR Referee  \n",
       "380 NaN NaN NaN NaN     NaN  "
      ]
     },
     "execution_count": 354,
     "metadata": {},
     "output_type": "execute_result"
    }
   ],
   "source": [
    "#one row with nulls\n",
    "df[df['Date'].isna()] #but we can safely ignore this row"
   ]
  },
  {
   "cell_type": "code",
   "execution_count": 355,
   "metadata": {},
   "outputs": [],
   "source": [
    "df = df[df['Date'].notna()]"
   ]
  },
  {
   "cell_type": "code",
   "execution_count": 356,
   "metadata": {},
   "outputs": [
    {
     "data": {
      "text/html": [
       "<div>\n",
       "<style scoped>\n",
       "    .dataframe tbody tr th:only-of-type {\n",
       "        vertical-align: middle;\n",
       "    }\n",
       "\n",
       "    .dataframe tbody tr th {\n",
       "        vertical-align: top;\n",
       "    }\n",
       "\n",
       "    .dataframe thead th {\n",
       "        text-align: right;\n",
       "    }\n",
       "</style>\n",
       "<table border=\"1\" class=\"dataframe\">\n",
       "  <thead>\n",
       "    <tr style=\"text-align: right;\">\n",
       "      <th></th>\n",
       "      <th>Date</th>\n",
       "      <th>HomeTeam</th>\n",
       "      <th>AwayTeam</th>\n",
       "      <th>FTHG</th>\n",
       "      <th>FTAG</th>\n",
       "      <th>FTR</th>\n",
       "      <th>HS</th>\n",
       "      <th>AS</th>\n",
       "      <th>HST</th>\n",
       "      <th>AST</th>\n",
       "      <th>HF</th>\n",
       "      <th>AF</th>\n",
       "      <th>HC</th>\n",
       "      <th>AC</th>\n",
       "      <th>HY</th>\n",
       "      <th>AY</th>\n",
       "      <th>HR</th>\n",
       "      <th>AR</th>\n",
       "      <th>Referee</th>\n",
       "    </tr>\n",
       "  </thead>\n",
       "  <tbody>\n",
       "    <tr>\n",
       "      <th>0</th>\n",
       "      <td>2003-08-16</td>\n",
       "      <td>Arsenal</td>\n",
       "      <td>Everton</td>\n",
       "      <td>2.0</td>\n",
       "      <td>1.0</td>\n",
       "      <td>H</td>\n",
       "      <td>11.0</td>\n",
       "      <td>13.0</td>\n",
       "      <td>5.0</td>\n",
       "      <td>7.0</td>\n",
       "      <td>8.0</td>\n",
       "      <td>15.0</td>\n",
       "      <td>6.0</td>\n",
       "      <td>9.0</td>\n",
       "      <td>1.0</td>\n",
       "      <td>3.0</td>\n",
       "      <td>1.0</td>\n",
       "      <td>1.0</td>\n",
       "      <td>M Halsey</td>\n",
       "    </tr>\n",
       "    <tr>\n",
       "      <th>1</th>\n",
       "      <td>2003-08-16</td>\n",
       "      <td>Birmingham</td>\n",
       "      <td>Tottenham</td>\n",
       "      <td>1.0</td>\n",
       "      <td>0.0</td>\n",
       "      <td>H</td>\n",
       "      <td>10.0</td>\n",
       "      <td>15.0</td>\n",
       "      <td>5.0</td>\n",
       "      <td>7.0</td>\n",
       "      <td>20.0</td>\n",
       "      <td>27.0</td>\n",
       "      <td>1.0</td>\n",
       "      <td>4.0</td>\n",
       "      <td>3.0</td>\n",
       "      <td>5.0</td>\n",
       "      <td>0.0</td>\n",
       "      <td>0.0</td>\n",
       "      <td>R Styles</td>\n",
       "    </tr>\n",
       "    <tr>\n",
       "      <th>2</th>\n",
       "      <td>2003-08-16</td>\n",
       "      <td>Blackburn</td>\n",
       "      <td>Wolves</td>\n",
       "      <td>5.0</td>\n",
       "      <td>1.0</td>\n",
       "      <td>H</td>\n",
       "      <td>25.0</td>\n",
       "      <td>8.0</td>\n",
       "      <td>13.0</td>\n",
       "      <td>5.0</td>\n",
       "      <td>8.0</td>\n",
       "      <td>14.0</td>\n",
       "      <td>6.0</td>\n",
       "      <td>2.0</td>\n",
       "      <td>1.0</td>\n",
       "      <td>1.0</td>\n",
       "      <td>0.0</td>\n",
       "      <td>0.0</td>\n",
       "      <td>J Winter</td>\n",
       "    </tr>\n",
       "    <tr>\n",
       "      <th>3</th>\n",
       "      <td>2003-08-16</td>\n",
       "      <td>Fulham</td>\n",
       "      <td>Middlesbrough</td>\n",
       "      <td>3.0</td>\n",
       "      <td>2.0</td>\n",
       "      <td>H</td>\n",
       "      <td>17.0</td>\n",
       "      <td>8.0</td>\n",
       "      <td>9.0</td>\n",
       "      <td>5.0</td>\n",
       "      <td>18.0</td>\n",
       "      <td>16.0</td>\n",
       "      <td>7.0</td>\n",
       "      <td>6.0</td>\n",
       "      <td>1.0</td>\n",
       "      <td>1.0</td>\n",
       "      <td>0.0</td>\n",
       "      <td>0.0</td>\n",
       "      <td>G Poll</td>\n",
       "    </tr>\n",
       "    <tr>\n",
       "      <th>4</th>\n",
       "      <td>2003-08-16</td>\n",
       "      <td>Leicester</td>\n",
       "      <td>Southampton</td>\n",
       "      <td>2.0</td>\n",
       "      <td>2.0</td>\n",
       "      <td>D</td>\n",
       "      <td>12.0</td>\n",
       "      <td>13.0</td>\n",
       "      <td>7.0</td>\n",
       "      <td>10.0</td>\n",
       "      <td>27.0</td>\n",
       "      <td>15.0</td>\n",
       "      <td>2.0</td>\n",
       "      <td>7.0</td>\n",
       "      <td>3.0</td>\n",
       "      <td>1.0</td>\n",
       "      <td>0.0</td>\n",
       "      <td>0.0</td>\n",
       "      <td>M Riley</td>\n",
       "    </tr>\n",
       "  </tbody>\n",
       "</table>\n",
       "</div>"
      ],
      "text/plain": [
       "        Date    HomeTeam       AwayTeam  FTHG  FTAG FTR    HS    AS   HST  \\\n",
       "0 2003-08-16     Arsenal        Everton   2.0   1.0   H  11.0  13.0   5.0   \n",
       "1 2003-08-16  Birmingham      Tottenham   1.0   0.0   H  10.0  15.0   5.0   \n",
       "2 2003-08-16   Blackburn         Wolves   5.0   1.0   H  25.0   8.0  13.0   \n",
       "3 2003-08-16      Fulham  Middlesbrough   3.0   2.0   H  17.0   8.0   9.0   \n",
       "4 2003-08-16   Leicester    Southampton   2.0   2.0   D  12.0  13.0   7.0   \n",
       "\n",
       "    AST    HF    AF   HC   AC   HY   AY   HR   AR   Referee  \n",
       "0   7.0   8.0  15.0  6.0  9.0  1.0  3.0  1.0  1.0  M Halsey  \n",
       "1   7.0  20.0  27.0  1.0  4.0  3.0  5.0  0.0  0.0  R Styles  \n",
       "2   5.0   8.0  14.0  6.0  2.0  1.0  1.0  0.0  0.0  J Winter  \n",
       "3   5.0  18.0  16.0  7.0  6.0  1.0  1.0  0.0  0.0    G Poll  \n",
       "4  10.0  27.0  15.0  2.0  7.0  3.0  1.0  0.0  0.0   M Riley  "
      ]
     },
     "execution_count": 356,
     "metadata": {},
     "output_type": "execute_result"
    }
   ],
   "source": [
    "df.head()"
   ]
  },
  {
   "cell_type": "code",
   "execution_count": 357,
   "metadata": {},
   "outputs": [
    {
     "data": {
      "text/plain": [
       "Date        datetime64[ns]\n",
       "HomeTeam            object\n",
       "AwayTeam            object\n",
       "FTHG               float64\n",
       "FTAG               float64\n",
       "FTR                 object\n",
       "HS                 float64\n",
       "AS                 float64\n",
       "HST                float64\n",
       "AST                float64\n",
       "HF                 float64\n",
       "AF                 float64\n",
       "HC                 float64\n",
       "AC                 float64\n",
       "HY                 float64\n",
       "AY                 float64\n",
       "HR                 float64\n",
       "AR                 float64\n",
       "Referee             object\n",
       "dtype: object"
      ]
     },
     "execution_count": 357,
     "metadata": {},
     "output_type": "execute_result"
    }
   ],
   "source": [
    "df.dtypes"
   ]
  },
  {
   "cell_type": "code",
   "execution_count": 358,
   "metadata": {},
   "outputs": [
    {
     "data": {
      "text/plain": [
       "Timestamp('2003-08-16 00:00:00')"
      ]
     },
     "execution_count": 358,
     "metadata": {},
     "output_type": "execute_result"
    }
   ],
   "source": [
    "#Check dates\n",
    "df['Date'].min() "
   ]
  },
  {
   "cell_type": "code",
   "execution_count": 359,
   "metadata": {},
   "outputs": [
    {
     "data": {
      "text/plain": [
       "Timestamp('2022-05-22 00:00:00')"
      ]
     },
     "execution_count": 359,
     "metadata": {},
     "output_type": "execute_result"
    }
   ],
   "source": [
    "df['Date'].max() #looks about right"
   ]
  },
  {
   "cell_type": "code",
   "execution_count": 360,
   "metadata": {},
   "outputs": [],
   "source": [
    "df['month_year'] = df['Date'].dt.to_period('M')"
   ]
  },
  {
   "cell_type": "code",
   "execution_count": 361,
   "metadata": {},
   "outputs": [],
   "source": [
    "#df[df['month_year']== '2022-05']"
   ]
  },
  {
   "cell_type": "code",
   "execution_count": 362,
   "metadata": {},
   "outputs": [
    {
     "data": {
      "text/plain": [
       "(7220, 20)"
      ]
     },
     "execution_count": 362,
     "metadata": {},
     "output_type": "execute_result"
    }
   ],
   "source": [
    "df.shape"
   ]
  },
  {
   "cell_type": "code",
   "execution_count": 363,
   "metadata": {},
   "outputs": [
    {
     "name": "stdout",
     "output_type": "stream",
     "text": [
      "Index(['Date', 'HomeTeam', 'AwayTeam', 'FTHG', 'FTAG', 'FTR', 'HS', 'AS',\n",
      "       'HST', 'AST', 'HF', 'AF', 'HC', 'AC', 'HY', 'AY', 'HR', 'AR', 'Referee',\n",
      "       'month_year'],\n",
      "      dtype='object')\n"
     ]
    }
   ],
   "source": [
    "print(df.columns)"
   ]
  },
  {
   "cell_type": "code",
   "execution_count": 364,
   "metadata": {},
   "outputs": [],
   "source": [
    "#df.to_csv('test.csv')"
   ]
  },
  {
   "cell_type": "code",
   "execution_count": 365,
   "metadata": {},
   "outputs": [
    {
     "data": {
      "text/plain": [
       "Index(['Date', 'HomeTeam', 'AwayTeam', 'FTHG', 'FTAG', 'FTR', 'HS', 'AS',\n",
       "       'HST', 'AST', 'HF', 'AF', 'HC', 'AC', 'HY', 'AY', 'HR', 'AR', 'Referee',\n",
       "       'month_year'],\n",
       "      dtype='object')"
      ]
     },
     "execution_count": 365,
     "metadata": {},
     "output_type": "execute_result"
    }
   ],
   "source": [
    "df.columns"
   ]
  },
  {
   "cell_type": "code",
   "execution_count": 366,
   "metadata": {},
   "outputs": [
    {
     "data": {
      "text/plain": [
       "Date          datetime64[ns]\n",
       "HomeTeam              object\n",
       "AwayTeam              object\n",
       "FTHG                 float64\n",
       "FTAG                 float64\n",
       "FTR                   object\n",
       "HS                   float64\n",
       "AS                   float64\n",
       "HST                  float64\n",
       "AST                  float64\n",
       "HF                   float64\n",
       "AF                   float64\n",
       "HC                   float64\n",
       "AC                   float64\n",
       "HY                   float64\n",
       "AY                   float64\n",
       "HR                   float64\n",
       "AR                   float64\n",
       "Referee               object\n",
       "month_year         period[M]\n",
       "dtype: object"
      ]
     },
     "execution_count": 366,
     "metadata": {},
     "output_type": "execute_result"
    }
   ],
   "source": [
    "df.dtypes"
   ]
  },
  {
   "cell_type": "markdown",
   "metadata": {},
   "source": [
    "# Analyzing basic football stats: Most Wins, Most Goals Scored, Most Goals Conceeded since '03\n",
    "\n",
    "* Will need to do some data manipulation"
   ]
  },
  {
   "cell_type": "code",
   "execution_count": 367,
   "metadata": {},
   "outputs": [],
   "source": [
    "#1. create a \"Winning Team\" column\n",
    "def f(row):\n",
    "    if row['FTR'] == 'H': #Winning Team is the home team\n",
    "        val = row['HomeTeam']\n",
    "    elif row['FTR'] == 'A': #Winning Team is the away team\n",
    "        val = row['AwayTeam']\n",
    "    else: #Otherwise, the result is a draw\n",
    "        val = 'Draw'\n",
    "    return val\n"
   ]
  },
  {
   "cell_type": "code",
   "execution_count": 368,
   "metadata": {},
   "outputs": [],
   "source": [
    "df['WinningTeam'] = df.apply(f, axis=1)"
   ]
  },
  {
   "cell_type": "code",
   "execution_count": 369,
   "metadata": {},
   "outputs": [
    {
     "data": {
      "text/html": [
       "<div>\n",
       "<style scoped>\n",
       "    .dataframe tbody tr th:only-of-type {\n",
       "        vertical-align: middle;\n",
       "    }\n",
       "\n",
       "    .dataframe tbody tr th {\n",
       "        vertical-align: top;\n",
       "    }\n",
       "\n",
       "    .dataframe thead th {\n",
       "        text-align: right;\n",
       "    }\n",
       "</style>\n",
       "<table border=\"1\" class=\"dataframe\">\n",
       "  <thead>\n",
       "    <tr style=\"text-align: right;\">\n",
       "      <th></th>\n",
       "      <th>Date</th>\n",
       "      <th>HomeTeam</th>\n",
       "      <th>AwayTeam</th>\n",
       "      <th>FTHG</th>\n",
       "      <th>FTAG</th>\n",
       "      <th>FTR</th>\n",
       "      <th>HS</th>\n",
       "      <th>AS</th>\n",
       "      <th>HST</th>\n",
       "      <th>AST</th>\n",
       "      <th>...</th>\n",
       "      <th>AF</th>\n",
       "      <th>HC</th>\n",
       "      <th>AC</th>\n",
       "      <th>HY</th>\n",
       "      <th>AY</th>\n",
       "      <th>HR</th>\n",
       "      <th>AR</th>\n",
       "      <th>Referee</th>\n",
       "      <th>month_year</th>\n",
       "      <th>WinningTeam</th>\n",
       "    </tr>\n",
       "  </thead>\n",
       "  <tbody>\n",
       "    <tr>\n",
       "      <th>0</th>\n",
       "      <td>2003-08-16</td>\n",
       "      <td>Arsenal</td>\n",
       "      <td>Everton</td>\n",
       "      <td>2.0</td>\n",
       "      <td>1.0</td>\n",
       "      <td>H</td>\n",
       "      <td>11.0</td>\n",
       "      <td>13.0</td>\n",
       "      <td>5.0</td>\n",
       "      <td>7.0</td>\n",
       "      <td>...</td>\n",
       "      <td>15.0</td>\n",
       "      <td>6.0</td>\n",
       "      <td>9.0</td>\n",
       "      <td>1.0</td>\n",
       "      <td>3.0</td>\n",
       "      <td>1.0</td>\n",
       "      <td>1.0</td>\n",
       "      <td>M Halsey</td>\n",
       "      <td>2003-08</td>\n",
       "      <td>Arsenal</td>\n",
       "    </tr>\n",
       "    <tr>\n",
       "      <th>1</th>\n",
       "      <td>2003-08-16</td>\n",
       "      <td>Birmingham</td>\n",
       "      <td>Tottenham</td>\n",
       "      <td>1.0</td>\n",
       "      <td>0.0</td>\n",
       "      <td>H</td>\n",
       "      <td>10.0</td>\n",
       "      <td>15.0</td>\n",
       "      <td>5.0</td>\n",
       "      <td>7.0</td>\n",
       "      <td>...</td>\n",
       "      <td>27.0</td>\n",
       "      <td>1.0</td>\n",
       "      <td>4.0</td>\n",
       "      <td>3.0</td>\n",
       "      <td>5.0</td>\n",
       "      <td>0.0</td>\n",
       "      <td>0.0</td>\n",
       "      <td>R Styles</td>\n",
       "      <td>2003-08</td>\n",
       "      <td>Birmingham</td>\n",
       "    </tr>\n",
       "    <tr>\n",
       "      <th>2</th>\n",
       "      <td>2003-08-16</td>\n",
       "      <td>Blackburn</td>\n",
       "      <td>Wolves</td>\n",
       "      <td>5.0</td>\n",
       "      <td>1.0</td>\n",
       "      <td>H</td>\n",
       "      <td>25.0</td>\n",
       "      <td>8.0</td>\n",
       "      <td>13.0</td>\n",
       "      <td>5.0</td>\n",
       "      <td>...</td>\n",
       "      <td>14.0</td>\n",
       "      <td>6.0</td>\n",
       "      <td>2.0</td>\n",
       "      <td>1.0</td>\n",
       "      <td>1.0</td>\n",
       "      <td>0.0</td>\n",
       "      <td>0.0</td>\n",
       "      <td>J Winter</td>\n",
       "      <td>2003-08</td>\n",
       "      <td>Blackburn</td>\n",
       "    </tr>\n",
       "    <tr>\n",
       "      <th>3</th>\n",
       "      <td>2003-08-16</td>\n",
       "      <td>Fulham</td>\n",
       "      <td>Middlesbrough</td>\n",
       "      <td>3.0</td>\n",
       "      <td>2.0</td>\n",
       "      <td>H</td>\n",
       "      <td>17.0</td>\n",
       "      <td>8.0</td>\n",
       "      <td>9.0</td>\n",
       "      <td>5.0</td>\n",
       "      <td>...</td>\n",
       "      <td>16.0</td>\n",
       "      <td>7.0</td>\n",
       "      <td>6.0</td>\n",
       "      <td>1.0</td>\n",
       "      <td>1.0</td>\n",
       "      <td>0.0</td>\n",
       "      <td>0.0</td>\n",
       "      <td>G Poll</td>\n",
       "      <td>2003-08</td>\n",
       "      <td>Fulham</td>\n",
       "    </tr>\n",
       "    <tr>\n",
       "      <th>4</th>\n",
       "      <td>2003-08-16</td>\n",
       "      <td>Leicester</td>\n",
       "      <td>Southampton</td>\n",
       "      <td>2.0</td>\n",
       "      <td>2.0</td>\n",
       "      <td>D</td>\n",
       "      <td>12.0</td>\n",
       "      <td>13.0</td>\n",
       "      <td>7.0</td>\n",
       "      <td>10.0</td>\n",
       "      <td>...</td>\n",
       "      <td>15.0</td>\n",
       "      <td>2.0</td>\n",
       "      <td>7.0</td>\n",
       "      <td>3.0</td>\n",
       "      <td>1.0</td>\n",
       "      <td>0.0</td>\n",
       "      <td>0.0</td>\n",
       "      <td>M Riley</td>\n",
       "      <td>2003-08</td>\n",
       "      <td>Draw</td>\n",
       "    </tr>\n",
       "  </tbody>\n",
       "</table>\n",
       "<p>5 rows × 21 columns</p>\n",
       "</div>"
      ],
      "text/plain": [
       "        Date    HomeTeam       AwayTeam  FTHG  FTAG FTR    HS    AS   HST  \\\n",
       "0 2003-08-16     Arsenal        Everton   2.0   1.0   H  11.0  13.0   5.0   \n",
       "1 2003-08-16  Birmingham      Tottenham   1.0   0.0   H  10.0  15.0   5.0   \n",
       "2 2003-08-16   Blackburn         Wolves   5.0   1.0   H  25.0   8.0  13.0   \n",
       "3 2003-08-16      Fulham  Middlesbrough   3.0   2.0   H  17.0   8.0   9.0   \n",
       "4 2003-08-16   Leicester    Southampton   2.0   2.0   D  12.0  13.0   7.0   \n",
       "\n",
       "    AST  ...    AF   HC   AC   HY   AY   HR   AR   Referee month_year  \\\n",
       "0   7.0  ...  15.0  6.0  9.0  1.0  3.0  1.0  1.0  M Halsey    2003-08   \n",
       "1   7.0  ...  27.0  1.0  4.0  3.0  5.0  0.0  0.0  R Styles    2003-08   \n",
       "2   5.0  ...  14.0  6.0  2.0  1.0  1.0  0.0  0.0  J Winter    2003-08   \n",
       "3   5.0  ...  16.0  7.0  6.0  1.0  1.0  0.0  0.0    G Poll    2003-08   \n",
       "4  10.0  ...  15.0  2.0  7.0  3.0  1.0  0.0  0.0   M Riley    2003-08   \n",
       "\n",
       "  WinningTeam  \n",
       "0     Arsenal  \n",
       "1  Birmingham  \n",
       "2   Blackburn  \n",
       "3      Fulham  \n",
       "4        Draw  \n",
       "\n",
       "[5 rows x 21 columns]"
      ]
     },
     "execution_count": 369,
     "metadata": {},
     "output_type": "execute_result"
    }
   ],
   "source": [
    "df.head()"
   ]
  },
  {
   "cell_type": "markdown",
   "metadata": {},
   "source": [
    "## Teams with the Most Wins from 03/04 to end of 21/22 Season"
   ]
  },
  {
   "cell_type": "code",
   "execution_count": 370,
   "metadata": {},
   "outputs": [
    {
     "data": {
      "text/plain": [
       "Draw          1793\n",
       "Chelsea        439\n",
       "Man United     434\n",
       "Man City       405\n",
       "Liverpool      402\n",
       "Arsenal        401\n",
       "Tottenham      352\n",
       "Everton        282\n",
       "Newcastle      204\n",
       "West Ham       203\n",
       "Name: WinningTeam, dtype: int64"
      ]
     },
     "execution_count": 370,
     "metadata": {},
     "output_type": "execute_result"
    }
   ],
   "source": [
    "df['WinningTeam'].value_counts().head(10) #The Big Six Theory is validated?!"
   ]
  },
  {
   "cell_type": "code",
   "execution_count": 371,
   "metadata": {},
   "outputs": [],
   "source": [
    "df_wins_since03 = df.groupby(['WinningTeam']).size().sort_values(ascending=False).reset_index(name='Number of Wins')"
   ]
  },
  {
   "cell_type": "code",
   "execution_count": 372,
   "metadata": {},
   "outputs": [
    {
     "data": {
      "text/plain": [
       "<matplotlib.legend.Legend at 0x19e61e730d0>"
      ]
     },
     "execution_count": 372,
     "metadata": {},
     "output_type": "execute_result"
    },
    {
     "data": {
      "image/png": "[encoded data removed]",
      "text/plain": [
       "<Figure size 720x720 with 1 Axes>"
      ]
     },
     "metadata": {
      "needs_background": "light"
     },
     "output_type": "display_data"
    }
   ],
   "source": [
    "#Ignore the draws\n",
    "#Highlight the Big 6\n",
    "colors = ['#2ca02c', '#2ca02c', '#2ca02c', '#2ca02c', '#2ca02c','#2ca02c', \n",
    "          '#7f7f7f', '#7f7f7f', '#7f7f7f', '#7f7f7f']\n",
    "ax = df_wins_since03[df_wins_since03['WinningTeam']!='Draw'][:10].plot('WinningTeam','Number of Wins', \n",
    "                                                                       kind='bar',\n",
    "                                                                       color = colors, figsize=(10,10), \n",
    "                                                                       label='Number of Wins for the Big 6',\n",
    "                                                                      fontsize=15)\n",
    "ax.set_title(\"Top 10 Teams with Most Wins Since the 03/04 Season\", fontsize=20)\n",
    "ax.set_xlabel(\"Team\", fontsize=15)\n",
    "ax.set_ylabel(\"Games Won\", fontsize=15)\n",
    "ax.legend(fontsize=15)"
   ]
  },
  {
   "cell_type": "markdown",
   "metadata": {},
   "source": [
    "## Teams with the Most Goals"
   ]
  },
  {
   "cell_type": "code",
   "execution_count": 373,
   "metadata": {},
   "outputs": [
    {
     "data": {
      "text/html": [
       "<div>\n",
       "<style scoped>\n",
       "    .dataframe tbody tr th:only-of-type {\n",
       "        vertical-align: middle;\n",
       "    }\n",
       "\n",
       "    .dataframe tbody tr th {\n",
       "        vertical-align: top;\n",
       "    }\n",
       "\n",
       "    .dataframe thead th {\n",
       "        text-align: right;\n",
       "    }\n",
       "</style>\n",
       "<table border=\"1\" class=\"dataframe\">\n",
       "  <thead>\n",
       "    <tr style=\"text-align: right;\">\n",
       "      <th></th>\n",
       "      <th>Date</th>\n",
       "      <th>HomeTeam</th>\n",
       "      <th>AwayTeam</th>\n",
       "      <th>FTHG</th>\n",
       "      <th>FTAG</th>\n",
       "      <th>FTR</th>\n",
       "      <th>HS</th>\n",
       "      <th>AS</th>\n",
       "      <th>HST</th>\n",
       "      <th>AST</th>\n",
       "      <th>...</th>\n",
       "      <th>AF</th>\n",
       "      <th>HC</th>\n",
       "      <th>AC</th>\n",
       "      <th>HY</th>\n",
       "      <th>AY</th>\n",
       "      <th>HR</th>\n",
       "      <th>AR</th>\n",
       "      <th>Referee</th>\n",
       "      <th>month_year</th>\n",
       "      <th>WinningTeam</th>\n",
       "    </tr>\n",
       "  </thead>\n",
       "  <tbody>\n",
       "    <tr>\n",
       "      <th>0</th>\n",
       "      <td>2003-08-16</td>\n",
       "      <td>Arsenal</td>\n",
       "      <td>Everton</td>\n",
       "      <td>2.0</td>\n",
       "      <td>1.0</td>\n",
       "      <td>H</td>\n",
       "      <td>11.0</td>\n",
       "      <td>13.0</td>\n",
       "      <td>5.0</td>\n",
       "      <td>7.0</td>\n",
       "      <td>...</td>\n",
       "      <td>15.0</td>\n",
       "      <td>6.0</td>\n",
       "      <td>9.0</td>\n",
       "      <td>1.0</td>\n",
       "      <td>3.0</td>\n",
       "      <td>1.0</td>\n",
       "      <td>1.0</td>\n",
       "      <td>M Halsey</td>\n",
       "      <td>2003-08</td>\n",
       "      <td>Arsenal</td>\n",
       "    </tr>\n",
       "    <tr>\n",
       "      <th>1</th>\n",
       "      <td>2003-08-16</td>\n",
       "      <td>Birmingham</td>\n",
       "      <td>Tottenham</td>\n",
       "      <td>1.0</td>\n",
       "      <td>0.0</td>\n",
       "      <td>H</td>\n",
       "      <td>10.0</td>\n",
       "      <td>15.0</td>\n",
       "      <td>5.0</td>\n",
       "      <td>7.0</td>\n",
       "      <td>...</td>\n",
       "      <td>27.0</td>\n",
       "      <td>1.0</td>\n",
       "      <td>4.0</td>\n",
       "      <td>3.0</td>\n",
       "      <td>5.0</td>\n",
       "      <td>0.0</td>\n",
       "      <td>0.0</td>\n",
       "      <td>R Styles</td>\n",
       "      <td>2003-08</td>\n",
       "      <td>Birmingham</td>\n",
       "    </tr>\n",
       "    <tr>\n",
       "      <th>2</th>\n",
       "      <td>2003-08-16</td>\n",
       "      <td>Blackburn</td>\n",
       "      <td>Wolves</td>\n",
       "      <td>5.0</td>\n",
       "      <td>1.0</td>\n",
       "      <td>H</td>\n",
       "      <td>25.0</td>\n",
       "      <td>8.0</td>\n",
       "      <td>13.0</td>\n",
       "      <td>5.0</td>\n",
       "      <td>...</td>\n",
       "      <td>14.0</td>\n",
       "      <td>6.0</td>\n",
       "      <td>2.0</td>\n",
       "      <td>1.0</td>\n",
       "      <td>1.0</td>\n",
       "      <td>0.0</td>\n",
       "      <td>0.0</td>\n",
       "      <td>J Winter</td>\n",
       "      <td>2003-08</td>\n",
       "      <td>Blackburn</td>\n",
       "    </tr>\n",
       "    <tr>\n",
       "      <th>3</th>\n",
       "      <td>2003-08-16</td>\n",
       "      <td>Fulham</td>\n",
       "      <td>Middlesbrough</td>\n",
       "      <td>3.0</td>\n",
       "      <td>2.0</td>\n",
       "      <td>H</td>\n",
       "      <td>17.0</td>\n",
       "      <td>8.0</td>\n",
       "      <td>9.0</td>\n",
       "      <td>5.0</td>\n",
       "      <td>...</td>\n",
       "      <td>16.0</td>\n",
       "      <td>7.0</td>\n",
       "      <td>6.0</td>\n",
       "      <td>1.0</td>\n",
       "      <td>1.0</td>\n",
       "      <td>0.0</td>\n",
       "      <td>0.0</td>\n",
       "      <td>G Poll</td>\n",
       "      <td>2003-08</td>\n",
       "      <td>Fulham</td>\n",
       "    </tr>\n",
       "    <tr>\n",
       "      <th>4</th>\n",
       "      <td>2003-08-16</td>\n",
       "      <td>Leicester</td>\n",
       "      <td>Southampton</td>\n",
       "      <td>2.0</td>\n",
       "      <td>2.0</td>\n",
       "      <td>D</td>\n",
       "      <td>12.0</td>\n",
       "      <td>13.0</td>\n",
       "      <td>7.0</td>\n",
       "      <td>10.0</td>\n",
       "      <td>...</td>\n",
       "      <td>15.0</td>\n",
       "      <td>2.0</td>\n",
       "      <td>7.0</td>\n",
       "      <td>3.0</td>\n",
       "      <td>1.0</td>\n",
       "      <td>0.0</td>\n",
       "      <td>0.0</td>\n",
       "      <td>M Riley</td>\n",
       "      <td>2003-08</td>\n",
       "      <td>Draw</td>\n",
       "    </tr>\n",
       "  </tbody>\n",
       "</table>\n",
       "<p>5 rows × 21 columns</p>\n",
       "</div>"
      ],
      "text/plain": [
       "        Date    HomeTeam       AwayTeam  FTHG  FTAG FTR    HS    AS   HST  \\\n",
       "0 2003-08-16     Arsenal        Everton   2.0   1.0   H  11.0  13.0   5.0   \n",
       "1 2003-08-16  Birmingham      Tottenham   1.0   0.0   H  10.0  15.0   5.0   \n",
       "2 2003-08-16   Blackburn         Wolves   5.0   1.0   H  25.0   8.0  13.0   \n",
       "3 2003-08-16      Fulham  Middlesbrough   3.0   2.0   H  17.0   8.0   9.0   \n",
       "4 2003-08-16   Leicester    Southampton   2.0   2.0   D  12.0  13.0   7.0   \n",
       "\n",
       "    AST  ...    AF   HC   AC   HY   AY   HR   AR   Referee month_year  \\\n",
       "0   7.0  ...  15.0  6.0  9.0  1.0  3.0  1.0  1.0  M Halsey    2003-08   \n",
       "1   7.0  ...  27.0  1.0  4.0  3.0  5.0  0.0  0.0  R Styles    2003-08   \n",
       "2   5.0  ...  14.0  6.0  2.0  1.0  1.0  0.0  0.0  J Winter    2003-08   \n",
       "3   5.0  ...  16.0  7.0  6.0  1.0  1.0  0.0  0.0    G Poll    2003-08   \n",
       "4  10.0  ...  15.0  2.0  7.0  3.0  1.0  0.0  0.0   M Riley    2003-08   \n",
       "\n",
       "  WinningTeam  \n",
       "0     Arsenal  \n",
       "1  Birmingham  \n",
       "2   Blackburn  \n",
       "3      Fulham  \n",
       "4        Draw  \n",
       "\n",
       "[5 rows x 21 columns]"
      ]
     },
     "execution_count": 373,
     "metadata": {},
     "output_type": "execute_result"
    }
   ],
   "source": [
    "df.head()"
   ]
  },
  {
   "cell_type": "code",
   "execution_count": 374,
   "metadata": {},
   "outputs": [
    {
     "data": {
      "text/html": [
       "<div>\n",
       "<style scoped>\n",
       "    .dataframe tbody tr th:only-of-type {\n",
       "        vertical-align: middle;\n",
       "    }\n",
       "\n",
       "    .dataframe tbody tr th {\n",
       "        vertical-align: top;\n",
       "    }\n",
       "\n",
       "    .dataframe thead th {\n",
       "        text-align: right;\n",
       "    }\n",
       "</style>\n",
       "<table border=\"1\" class=\"dataframe\">\n",
       "  <thead>\n",
       "    <tr style=\"text-align: right;\">\n",
       "      <th></th>\n",
       "      <th>Date</th>\n",
       "      <th>HomeTeam</th>\n",
       "      <th>FTHG</th>\n",
       "    </tr>\n",
       "  </thead>\n",
       "  <tbody>\n",
       "    <tr>\n",
       "      <th>0</th>\n",
       "      <td>2003-08-16</td>\n",
       "      <td>Arsenal</td>\n",
       "      <td>2.0</td>\n",
       "    </tr>\n",
       "    <tr>\n",
       "      <th>1</th>\n",
       "      <td>2003-08-16</td>\n",
       "      <td>Birmingham</td>\n",
       "      <td>1.0</td>\n",
       "    </tr>\n",
       "    <tr>\n",
       "      <th>2</th>\n",
       "      <td>2003-08-16</td>\n",
       "      <td>Blackburn</td>\n",
       "      <td>5.0</td>\n",
       "    </tr>\n",
       "    <tr>\n",
       "      <th>3</th>\n",
       "      <td>2003-08-16</td>\n",
       "      <td>Fulham</td>\n",
       "      <td>3.0</td>\n",
       "    </tr>\n",
       "    <tr>\n",
       "      <th>4</th>\n",
       "      <td>2003-08-16</td>\n",
       "      <td>Leicester</td>\n",
       "      <td>2.0</td>\n",
       "    </tr>\n",
       "    <tr>\n",
       "      <th>...</th>\n",
       "      <td>...</td>\n",
       "      <td>...</td>\n",
       "      <td>...</td>\n",
       "    </tr>\n",
       "    <tr>\n",
       "      <th>375</th>\n",
       "      <td>2022-05-22</td>\n",
       "      <td>Crystal Palace</td>\n",
       "      <td>1.0</td>\n",
       "    </tr>\n",
       "    <tr>\n",
       "      <th>376</th>\n",
       "      <td>2022-05-22</td>\n",
       "      <td>Leicester</td>\n",
       "      <td>4.0</td>\n",
       "    </tr>\n",
       "    <tr>\n",
       "      <th>377</th>\n",
       "      <td>2022-05-22</td>\n",
       "      <td>Liverpool</td>\n",
       "      <td>3.0</td>\n",
       "    </tr>\n",
       "    <tr>\n",
       "      <th>378</th>\n",
       "      <td>2022-05-22</td>\n",
       "      <td>Man City</td>\n",
       "      <td>3.0</td>\n",
       "    </tr>\n",
       "    <tr>\n",
       "      <th>379</th>\n",
       "      <td>2022-05-22</td>\n",
       "      <td>Norwich</td>\n",
       "      <td>0.0</td>\n",
       "    </tr>\n",
       "  </tbody>\n",
       "</table>\n",
       "<p>7220 rows × 3 columns</p>\n",
       "</div>"
      ],
      "text/plain": [
       "          Date        HomeTeam  FTHG\n",
       "0   2003-08-16         Arsenal   2.0\n",
       "1   2003-08-16      Birmingham   1.0\n",
       "2   2003-08-16       Blackburn   5.0\n",
       "3   2003-08-16          Fulham   3.0\n",
       "4   2003-08-16       Leicester   2.0\n",
       "..         ...             ...   ...\n",
       "375 2022-05-22  Crystal Palace   1.0\n",
       "376 2022-05-22       Leicester   4.0\n",
       "377 2022-05-22       Liverpool   3.0\n",
       "378 2022-05-22        Man City   3.0\n",
       "379 2022-05-22         Norwich   0.0\n",
       "\n",
       "[7220 rows x 3 columns]"
      ]
     },
     "execution_count": 374,
     "metadata": {},
     "output_type": "execute_result"
    }
   ],
   "source": [
    "#Create a new dataframe pairing team name (column 1) + goals (column 2)\n",
    "df_home = df[['Date','HomeTeam','FTHG']]\n",
    "df_home"
   ]
  },
  {
   "cell_type": "code",
   "execution_count": 375,
   "metadata": {},
   "outputs": [
    {
     "data": {
      "text/html": [
       "<div>\n",
       "<style scoped>\n",
       "    .dataframe tbody tr th:only-of-type {\n",
       "        vertical-align: middle;\n",
       "    }\n",
       "\n",
       "    .dataframe tbody tr th {\n",
       "        vertical-align: top;\n",
       "    }\n",
       "\n",
       "    .dataframe thead th {\n",
       "        text-align: right;\n",
       "    }\n",
       "</style>\n",
       "<table border=\"1\" class=\"dataframe\">\n",
       "  <thead>\n",
       "    <tr style=\"text-align: right;\">\n",
       "      <th></th>\n",
       "      <th>Date</th>\n",
       "      <th>AwayTeam</th>\n",
       "      <th>FTAG</th>\n",
       "    </tr>\n",
       "  </thead>\n",
       "  <tbody>\n",
       "    <tr>\n",
       "      <th>0</th>\n",
       "      <td>2003-08-16</td>\n",
       "      <td>Everton</td>\n",
       "      <td>1.0</td>\n",
       "    </tr>\n",
       "    <tr>\n",
       "      <th>1</th>\n",
       "      <td>2003-08-16</td>\n",
       "      <td>Tottenham</td>\n",
       "      <td>0.0</td>\n",
       "    </tr>\n",
       "    <tr>\n",
       "      <th>2</th>\n",
       "      <td>2003-08-16</td>\n",
       "      <td>Wolves</td>\n",
       "      <td>1.0</td>\n",
       "    </tr>\n",
       "    <tr>\n",
       "      <th>3</th>\n",
       "      <td>2003-08-16</td>\n",
       "      <td>Middlesbrough</td>\n",
       "      <td>2.0</td>\n",
       "    </tr>\n",
       "    <tr>\n",
       "      <th>4</th>\n",
       "      <td>2003-08-16</td>\n",
       "      <td>Southampton</td>\n",
       "      <td>2.0</td>\n",
       "    </tr>\n",
       "    <tr>\n",
       "      <th>...</th>\n",
       "      <td>...</td>\n",
       "      <td>...</td>\n",
       "      <td>...</td>\n",
       "    </tr>\n",
       "    <tr>\n",
       "      <th>375</th>\n",
       "      <td>2022-05-22</td>\n",
       "      <td>Man United</td>\n",
       "      <td>0.0</td>\n",
       "    </tr>\n",
       "    <tr>\n",
       "      <th>376</th>\n",
       "      <td>2022-05-22</td>\n",
       "      <td>Southampton</td>\n",
       "      <td>1.0</td>\n",
       "    </tr>\n",
       "    <tr>\n",
       "      <th>377</th>\n",
       "      <td>2022-05-22</td>\n",
       "      <td>Wolves</td>\n",
       "      <td>1.0</td>\n",
       "    </tr>\n",
       "    <tr>\n",
       "      <th>378</th>\n",
       "      <td>2022-05-22</td>\n",
       "      <td>Aston Villa</td>\n",
       "      <td>2.0</td>\n",
       "    </tr>\n",
       "    <tr>\n",
       "      <th>379</th>\n",
       "      <td>2022-05-22</td>\n",
       "      <td>Tottenham</td>\n",
       "      <td>5.0</td>\n",
       "    </tr>\n",
       "  </tbody>\n",
       "</table>\n",
       "<p>7220 rows × 3 columns</p>\n",
       "</div>"
      ],
      "text/plain": [
       "          Date       AwayTeam  FTAG\n",
       "0   2003-08-16        Everton   1.0\n",
       "1   2003-08-16      Tottenham   0.0\n",
       "2   2003-08-16         Wolves   1.0\n",
       "3   2003-08-16  Middlesbrough   2.0\n",
       "4   2003-08-16    Southampton   2.0\n",
       "..         ...            ...   ...\n",
       "375 2022-05-22     Man United   0.0\n",
       "376 2022-05-22    Southampton   1.0\n",
       "377 2022-05-22         Wolves   1.0\n",
       "378 2022-05-22    Aston Villa   2.0\n",
       "379 2022-05-22      Tottenham   5.0\n",
       "\n",
       "[7220 rows x 3 columns]"
      ]
     },
     "execution_count": 375,
     "metadata": {},
     "output_type": "execute_result"
    }
   ],
   "source": [
    "#Do the same for away team\n",
    "df_away = df[['Date','AwayTeam','FTAG']]\n",
    "df_away"
   ]
  },
  {
   "cell_type": "code",
   "execution_count": 376,
   "metadata": {},
   "outputs": [],
   "source": [
    "#Match the column names then concatenate the two frames\n",
    "df_home.columns = ['Date','Team','Goals']\n",
    "df_away.columns = ['Date','Team','Goals']"
   ]
  },
  {
   "cell_type": "code",
   "execution_count": 377,
   "metadata": {},
   "outputs": [
    {
     "data": {
      "text/html": [
       "<div>\n",
       "<style scoped>\n",
       "    .dataframe tbody tr th:only-of-type {\n",
       "        vertical-align: middle;\n",
       "    }\n",
       "\n",
       "    .dataframe tbody tr th {\n",
       "        vertical-align: top;\n",
       "    }\n",
       "\n",
       "    .dataframe thead th {\n",
       "        text-align: right;\n",
       "    }\n",
       "</style>\n",
       "<table border=\"1\" class=\"dataframe\">\n",
       "  <thead>\n",
       "    <tr style=\"text-align: right;\">\n",
       "      <th></th>\n",
       "      <th>Date</th>\n",
       "      <th>Team</th>\n",
       "      <th>Goals</th>\n",
       "    </tr>\n",
       "  </thead>\n",
       "  <tbody>\n",
       "    <tr>\n",
       "      <th>0</th>\n",
       "      <td>2003-08-16</td>\n",
       "      <td>Arsenal</td>\n",
       "      <td>2.0</td>\n",
       "    </tr>\n",
       "    <tr>\n",
       "      <th>1</th>\n",
       "      <td>2003-08-16</td>\n",
       "      <td>Birmingham</td>\n",
       "      <td>1.0</td>\n",
       "    </tr>\n",
       "    <tr>\n",
       "      <th>2</th>\n",
       "      <td>2003-08-16</td>\n",
       "      <td>Blackburn</td>\n",
       "      <td>5.0</td>\n",
       "    </tr>\n",
       "    <tr>\n",
       "      <th>3</th>\n",
       "      <td>2003-08-16</td>\n",
       "      <td>Fulham</td>\n",
       "      <td>3.0</td>\n",
       "    </tr>\n",
       "    <tr>\n",
       "      <th>4</th>\n",
       "      <td>2003-08-16</td>\n",
       "      <td>Leicester</td>\n",
       "      <td>2.0</td>\n",
       "    </tr>\n",
       "    <tr>\n",
       "      <th>...</th>\n",
       "      <td>...</td>\n",
       "      <td>...</td>\n",
       "      <td>...</td>\n",
       "    </tr>\n",
       "    <tr>\n",
       "      <th>375</th>\n",
       "      <td>2022-05-22</td>\n",
       "      <td>Man United</td>\n",
       "      <td>0.0</td>\n",
       "    </tr>\n",
       "    <tr>\n",
       "      <th>376</th>\n",
       "      <td>2022-05-22</td>\n",
       "      <td>Southampton</td>\n",
       "      <td>1.0</td>\n",
       "    </tr>\n",
       "    <tr>\n",
       "      <th>377</th>\n",
       "      <td>2022-05-22</td>\n",
       "      <td>Wolves</td>\n",
       "      <td>1.0</td>\n",
       "    </tr>\n",
       "    <tr>\n",
       "      <th>378</th>\n",
       "      <td>2022-05-22</td>\n",
       "      <td>Aston Villa</td>\n",
       "      <td>2.0</td>\n",
       "    </tr>\n",
       "    <tr>\n",
       "      <th>379</th>\n",
       "      <td>2022-05-22</td>\n",
       "      <td>Tottenham</td>\n",
       "      <td>5.0</td>\n",
       "    </tr>\n",
       "  </tbody>\n",
       "</table>\n",
       "<p>14440 rows × 3 columns</p>\n",
       "</div>"
      ],
      "text/plain": [
       "          Date         Team  Goals\n",
       "0   2003-08-16      Arsenal    2.0\n",
       "1   2003-08-16   Birmingham    1.0\n",
       "2   2003-08-16    Blackburn    5.0\n",
       "3   2003-08-16       Fulham    3.0\n",
       "4   2003-08-16    Leicester    2.0\n",
       "..         ...          ...    ...\n",
       "375 2022-05-22   Man United    0.0\n",
       "376 2022-05-22  Southampton    1.0\n",
       "377 2022-05-22       Wolves    1.0\n",
       "378 2022-05-22  Aston Villa    2.0\n",
       "379 2022-05-22    Tottenham    5.0\n",
       "\n",
       "[14440 rows x 3 columns]"
      ]
     },
     "execution_count": 377,
     "metadata": {},
     "output_type": "execute_result"
    }
   ],
   "source": [
    "df_goals = pd.concat([df_home,df_away])\n",
    "df_goals"
   ]
  },
  {
   "cell_type": "code",
   "execution_count": 378,
   "metadata": {},
   "outputs": [],
   "source": [
    "df_goals_since03 = df_goals.groupby('Team').sum().sort_values(by='Goals', ascending=False).reset_index() #The Big 6 wins again! \n",
    "#\"You need to score goals to win football matches\""
   ]
  },
  {
   "cell_type": "code",
   "execution_count": 379,
   "metadata": {},
   "outputs": [
    {
     "data": {
      "text/plain": [
       "<matplotlib.legend.Legend at 0x19e669a68b0>"
      ]
     },
     "execution_count": 379,
     "metadata": {},
     "output_type": "execute_result"
    },
    {
     "data": {
      "image/png": "[encoded data removed]",
      "text/plain": [
       "<Figure size 720x720 with 1 Axes>"
      ]
     },
     "metadata": {
      "needs_background": "light"
     },
     "output_type": "display_data"
    }
   ],
   "source": [
    "#Ignore the draws\n",
    "colors = ['#2ca02c', '#2ca02c', '#2ca02c', '#2ca02c', '#2ca02c','#2ca02c', \n",
    "          '#7f7f7f', '#7f7f7f', '#7f7f7f', '#7f7f7f']\n",
    "ax = df_goals_since03.head(10).plot(\"Team\",\"Goals\",\n",
    "                                    kind='bar',\n",
    "                                    color=colors, \n",
    "                                    figsize=(10,10),\n",
    "                                    label='Number of Goals for the Big 6',\n",
    "                                    fontsize=15)\n",
    "ax.set_title(\"Top 10 Teams with the Most Goals Since the 03/04 Season\", fontsize=20)\n",
    "ax.set_xlabel(\"Team\", fontsize=15)\n",
    "ax.set_ylabel(\"Goals Scored\", fontsize=15)\n",
    "ax.legend(fontsize=15)"
   ]
  },
  {
   "cell_type": "markdown",
   "metadata": {},
   "source": [
    "### Random check on Referees"
   ]
  },
  {
   "cell_type": "code",
   "execution_count": 380,
   "metadata": {},
   "outputs": [
    {
     "data": {
      "text/plain": [
       "M Dean          508\n",
       "M Atkinson      459\n",
       "A Marriner      379\n",
       "M Oliver        320\n",
       "A Taylor        314\n",
       "               ... \n",
       " N Barry          1\n",
       " S Dunn           1\n",
       "D Gallagh         1\n",
       "D Gallaghe        1\n",
       "I Williamson      1\n",
       "Name: Referee, Length: 74, dtype: int64"
      ]
     },
     "execution_count": 380,
     "metadata": {},
     "output_type": "execute_result"
    }
   ],
   "source": [
    "df['Referee'].value_counts() #Mike Dean refereed the most # of games."
   ]
  },
  {
   "cell_type": "code",
   "execution_count": 381,
   "metadata": {},
   "outputs": [
    {
     "data": {
      "text/plain": [
       "Text(0, 0.5, 'Number of Games')"
      ]
     },
     "execution_count": 381,
     "metadata": {},
     "output_type": "execute_result"
    },
    {
     "data": {
      "image/png": "[encoded data removed]",
      "text/plain": [
       "<Figure size 432x288 with 1 Axes>"
      ]
     },
     "metadata": {
      "needs_background": "light"
     },
     "output_type": "display_data"
    }
   ],
   "source": [
    "colors = ['#d62728', '#1f77b4', '#ff7f0e', '#2ca02c', '#9467bd',\n",
    "          '#8c564b', '#e377c2', '#7f7f7f', '#bcbd22', '#17becf']\n",
    "ax = df['Referee'].value_counts()[:10].plot.bar(color=colors) #Some familiar looking names...\n",
    "ax.set_title(\"Top 10 Referees by Number of Games Since '03\")\n",
    "ax.set_xlabel(\"Referees\")\n",
    "ax.set_ylabel(\"Number of Games\")"
   ]
  },
  {
   "cell_type": "markdown",
   "metadata": {},
   "source": [
    "### For ease, have a combined dataset stored somewhere"
   ]
  },
  {
   "cell_type": "code",
   "execution_count": 382,
   "metadata": {},
   "outputs": [],
   "source": [
    "df.to_csv('data/EPL_stats_since03.csv',index=False)"
   ]
  },
  {
   "cell_type": "code",
   "execution_count": null,
   "metadata": {},
   "outputs": [],
   "source": []
  }
 ],
 "metadata": {
  "kernelspec": {
   "display_name": "Python 3",
   "language": "python",
   "name": "python3"
  },
  "language_info": {
   "codemirror_mode": {
    "name": "ipython",
    "version": 3
   },
   "file_extension": ".py",
   "mimetype": "text/x-python",
   "name": "python",
   "nbconvert_exporter": "python",
   "pygments_lexer": "ipython3",
   "version": "3.8.3"
  },
  "vscode": {
   "interpreter": {
    "hash": "d5154808ca7c314f904faff2f8928f6b74c6d5dcb97070d614c0da63f4b3c805"
   }
  }
 },
 "nbformat": 4,
 "nbformat_minor": 4
}
